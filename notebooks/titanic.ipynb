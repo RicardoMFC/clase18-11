{
 "cells": [
  {
   "cell_type": "markdown",
   "metadata": {},
   "source": [
    "# Ejercicio\n",
    "El fichero titanic.csv contiene información sobre los pasajeros del Titanic. Crear un dataframe con Pandas y a partir de él generar los siguientes diagramas.\n",
    "\n",
    "Diagrama de sectores con los fallecidos y supervivientes.\n",
    "Histograma con las edades.\n",
    "Diagrama de barras con el número de personas en cada clase.\n",
    "Diagrama de barras con el número de personas fallecidas y supervivientes en cada clase.\n",
    "Diagrama de barras con el número de personas fallecidas y supervivientes acumuladas en cada clase."
   ]
  }
 ],
 "metadata": {
  "language_info": {
   "name": "python"
  },
  "orig_nbformat": 4
 },
 "nbformat": 4,
 "nbformat_minor": 2
}
